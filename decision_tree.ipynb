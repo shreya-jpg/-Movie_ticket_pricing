{
  "nbformat": 4,
  "nbformat_minor": 0,
  "metadata": {
    "colab": {
      "name": "decision tree.ipynb",
      "provenance": []
    },
    "kernelspec": {
      "name": "python3",
      "display_name": "Python 3"
    },
    "language_info": {
      "name": "python"
    }
  },
  "cells": [
    {
      "cell_type": "markdown",
      "source": [
        "## **DATA ANALYSIS AND DATA CLEANING**"
      ],
      "metadata": {
        "id": "-6i2sjHmYW9I"
      }
    },
    {
      "cell_type": "markdown",
      "source": [
        "IMPORTING LIBRARIES AND RAW DATA"
      ],
      "metadata": {
        "id": "WeWrYowoYtqs"
      }
    },
    {
      "cell_type": "code",
      "execution_count": 39,
      "metadata": {
        "id": "6o4cXYvWEBpq"
      },
      "outputs": [],
      "source": [
        "import pandas as pd\n",
        "import numpy as np\n",
        "import datetime, pytz"
      ]
    },
    {
      "cell_type": "code",
      "source": [
        "df = pd.read_csv(r'/content/cinemaTicket_Ref.csv')"
      ],
      "metadata": {
        "id": "sgaxeh-OEGJ5"
      },
      "execution_count": 40,
      "outputs": []
    },
    {
      "cell_type": "markdown",
      "source": [
        "DESCRIBE DATA"
      ],
      "metadata": {
        "id": "hiWbj8ptY3FY"
      }
    },
    {
      "cell_type": "code",
      "source": [
        "df.head()"
      ],
      "metadata": {
        "id": "-14A0yufEK9A",
        "colab": {
          "base_uri": "https://localhost:8080/",
          "height": 206
        },
        "outputId": "fcaa4bff-a38d-4b22-933d-47f30b8664c6"
      },
      "execution_count": 41,
      "outputs": [
        {
          "output_type": "execute_result",
          "data": {
            "text/html": [
              "\n",
              "  <div id=\"df-9d0d5a9e-d06f-4982-9be1-f584aa70670b\">\n",
              "    <div class=\"colab-df-container\">\n",
              "      <div>\n",
              "<style scoped>\n",
              "    .dataframe tbody tr th:only-of-type {\n",
              "        vertical-align: middle;\n",
              "    }\n",
              "\n",
              "    .dataframe tbody tr th {\n",
              "        vertical-align: top;\n",
              "    }\n",
              "\n",
              "    .dataframe thead th {\n",
              "        text-align: right;\n",
              "    }\n",
              "</style>\n",
              "<table border=\"1\" class=\"dataframe\">\n",
              "  <thead>\n",
              "    <tr style=\"text-align: right;\">\n",
              "      <th></th>\n",
              "      <th>film_code</th>\n",
              "      <th>cinema_code</th>\n",
              "      <th>total_sales</th>\n",
              "      <th>tickets_sold</th>\n",
              "      <th>tickets_out</th>\n",
              "      <th>show_time</th>\n",
              "      <th>occu_perc</th>\n",
              "      <th>ticket_price</th>\n",
              "      <th>ticket_use</th>\n",
              "      <th>capacity</th>\n",
              "      <th>date</th>\n",
              "      <th>month</th>\n",
              "      <th>quarter</th>\n",
              "      <th>day</th>\n",
              "    </tr>\n",
              "  </thead>\n",
              "  <tbody>\n",
              "    <tr>\n",
              "      <th>0</th>\n",
              "      <td>1492</td>\n",
              "      <td>304</td>\n",
              "      <td>3900000</td>\n",
              "      <td>26</td>\n",
              "      <td>0</td>\n",
              "      <td>4</td>\n",
              "      <td>4.26</td>\n",
              "      <td>150000.0</td>\n",
              "      <td>26</td>\n",
              "      <td>610.328638</td>\n",
              "      <td>2018-05-05</td>\n",
              "      <td>5</td>\n",
              "      <td>2</td>\n",
              "      <td>5</td>\n",
              "    </tr>\n",
              "    <tr>\n",
              "      <th>1</th>\n",
              "      <td>1492</td>\n",
              "      <td>352</td>\n",
              "      <td>3360000</td>\n",
              "      <td>42</td>\n",
              "      <td>0</td>\n",
              "      <td>5</td>\n",
              "      <td>8.08</td>\n",
              "      <td>80000.0</td>\n",
              "      <td>42</td>\n",
              "      <td>519.801980</td>\n",
              "      <td>2018-05-05</td>\n",
              "      <td>5</td>\n",
              "      <td>2</td>\n",
              "      <td>5</td>\n",
              "    </tr>\n",
              "    <tr>\n",
              "      <th>2</th>\n",
              "      <td>1492</td>\n",
              "      <td>489</td>\n",
              "      <td>2560000</td>\n",
              "      <td>32</td>\n",
              "      <td>0</td>\n",
              "      <td>4</td>\n",
              "      <td>20.00</td>\n",
              "      <td>80000.0</td>\n",
              "      <td>32</td>\n",
              "      <td>160.000000</td>\n",
              "      <td>2018-05-05</td>\n",
              "      <td>5</td>\n",
              "      <td>2</td>\n",
              "      <td>5</td>\n",
              "    </tr>\n",
              "    <tr>\n",
              "      <th>3</th>\n",
              "      <td>1492</td>\n",
              "      <td>429</td>\n",
              "      <td>1200000</td>\n",
              "      <td>12</td>\n",
              "      <td>0</td>\n",
              "      <td>1</td>\n",
              "      <td>11.01</td>\n",
              "      <td>100000.0</td>\n",
              "      <td>12</td>\n",
              "      <td>108.991826</td>\n",
              "      <td>2018-05-05</td>\n",
              "      <td>5</td>\n",
              "      <td>2</td>\n",
              "      <td>5</td>\n",
              "    </tr>\n",
              "    <tr>\n",
              "      <th>4</th>\n",
              "      <td>1492</td>\n",
              "      <td>524</td>\n",
              "      <td>1200000</td>\n",
              "      <td>15</td>\n",
              "      <td>0</td>\n",
              "      <td>3</td>\n",
              "      <td>16.67</td>\n",
              "      <td>80000.0</td>\n",
              "      <td>15</td>\n",
              "      <td>89.982004</td>\n",
              "      <td>2018-05-05</td>\n",
              "      <td>5</td>\n",
              "      <td>2</td>\n",
              "      <td>5</td>\n",
              "    </tr>\n",
              "  </tbody>\n",
              "</table>\n",
              "</div>\n",
              "      <button class=\"colab-df-convert\" onclick=\"convertToInteractive('df-9d0d5a9e-d06f-4982-9be1-f584aa70670b')\"\n",
              "              title=\"Convert this dataframe to an interactive table.\"\n",
              "              style=\"display:none;\">\n",
              "        \n",
              "  <svg xmlns=\"http://www.w3.org/2000/svg\" height=\"24px\"viewBox=\"0 0 24 24\"\n",
              "       width=\"24px\">\n",
              "    <path d=\"M0 0h24v24H0V0z\" fill=\"none\"/>\n",
              "    <path d=\"M18.56 5.44l.94 2.06.94-2.06 2.06-.94-2.06-.94-.94-2.06-.94 2.06-2.06.94zm-11 1L8.5 8.5l.94-2.06 2.06-.94-2.06-.94L8.5 2.5l-.94 2.06-2.06.94zm10 10l.94 2.06.94-2.06 2.06-.94-2.06-.94-.94-2.06-.94 2.06-2.06.94z\"/><path d=\"M17.41 7.96l-1.37-1.37c-.4-.4-.92-.59-1.43-.59-.52 0-1.04.2-1.43.59L10.3 9.45l-7.72 7.72c-.78.78-.78 2.05 0 2.83L4 21.41c.39.39.9.59 1.41.59.51 0 1.02-.2 1.41-.59l7.78-7.78 2.81-2.81c.8-.78.8-2.07 0-2.86zM5.41 20L4 18.59l7.72-7.72 1.47 1.35L5.41 20z\"/>\n",
              "  </svg>\n",
              "      </button>\n",
              "      \n",
              "  <style>\n",
              "    .colab-df-container {\n",
              "      display:flex;\n",
              "      flex-wrap:wrap;\n",
              "      gap: 12px;\n",
              "    }\n",
              "\n",
              "    .colab-df-convert {\n",
              "      background-color: #E8F0FE;\n",
              "      border: none;\n",
              "      border-radius: 50%;\n",
              "      cursor: pointer;\n",
              "      display: none;\n",
              "      fill: #1967D2;\n",
              "      height: 32px;\n",
              "      padding: 0 0 0 0;\n",
              "      width: 32px;\n",
              "    }\n",
              "\n",
              "    .colab-df-convert:hover {\n",
              "      background-color: #E2EBFA;\n",
              "      box-shadow: 0px 1px 2px rgba(60, 64, 67, 0.3), 0px 1px 3px 1px rgba(60, 64, 67, 0.15);\n",
              "      fill: #174EA6;\n",
              "    }\n",
              "\n",
              "    [theme=dark] .colab-df-convert {\n",
              "      background-color: #3B4455;\n",
              "      fill: #D2E3FC;\n",
              "    }\n",
              "\n",
              "    [theme=dark] .colab-df-convert:hover {\n",
              "      background-color: #434B5C;\n",
              "      box-shadow: 0px 1px 3px 1px rgba(0, 0, 0, 0.15);\n",
              "      filter: drop-shadow(0px 1px 2px rgba(0, 0, 0, 0.3));\n",
              "      fill: #FFFFFF;\n",
              "    }\n",
              "  </style>\n",
              "\n",
              "      <script>\n",
              "        const buttonEl =\n",
              "          document.querySelector('#df-9d0d5a9e-d06f-4982-9be1-f584aa70670b button.colab-df-convert');\n",
              "        buttonEl.style.display =\n",
              "          google.colab.kernel.accessAllowed ? 'block' : 'none';\n",
              "\n",
              "        async function convertToInteractive(key) {\n",
              "          const element = document.querySelector('#df-9d0d5a9e-d06f-4982-9be1-f584aa70670b');\n",
              "          const dataTable =\n",
              "            await google.colab.kernel.invokeFunction('convertToInteractive',\n",
              "                                                     [key], {});\n",
              "          if (!dataTable) return;\n",
              "\n",
              "          const docLinkHtml = 'Like what you see? Visit the ' +\n",
              "            '<a target=\"_blank\" href=https://colab.research.google.com/notebooks/data_table.ipynb>data table notebook</a>'\n",
              "            + ' to learn more about interactive tables.';\n",
              "          element.innerHTML = '';\n",
              "          dataTable['output_type'] = 'display_data';\n",
              "          await google.colab.output.renderOutput(dataTable, element);\n",
              "          const docLink = document.createElement('div');\n",
              "          docLink.innerHTML = docLinkHtml;\n",
              "          element.appendChild(docLink);\n",
              "        }\n",
              "      </script>\n",
              "    </div>\n",
              "  </div>\n",
              "  "
            ],
            "text/plain": [
              "   film_code  cinema_code  total_sales  ...  month  quarter  day\n",
              "0       1492          304      3900000  ...      5        2    5\n",
              "1       1492          352      3360000  ...      5        2    5\n",
              "2       1492          489      2560000  ...      5        2    5\n",
              "3       1492          429      1200000  ...      5        2    5\n",
              "4       1492          524      1200000  ...      5        2    5\n",
              "\n",
              "[5 rows x 14 columns]"
            ]
          },
          "metadata": {},
          "execution_count": 41
        }
      ]
    },
    {
      "cell_type": "code",
      "source": [
        "df.info()"
      ],
      "metadata": {
        "colab": {
          "base_uri": "https://localhost:8080/"
        },
        "id": "PEfRAXjbEj6F",
        "outputId": "d811e88d-7330-44d0-9cab-99eea4b9cbcb"
      },
      "execution_count": 42,
      "outputs": [
        {
          "output_type": "stream",
          "name": "stdout",
          "text": [
            "<class 'pandas.core.frame.DataFrame'>\n",
            "RangeIndex: 142524 entries, 0 to 142523\n",
            "Data columns (total 14 columns):\n",
            " #   Column        Non-Null Count   Dtype  \n",
            "---  ------        --------------   -----  \n",
            " 0   film_code     142524 non-null  int64  \n",
            " 1   cinema_code   142524 non-null  int64  \n",
            " 2   total_sales   142524 non-null  int64  \n",
            " 3   tickets_sold  142524 non-null  int64  \n",
            " 4   tickets_out   142524 non-null  int64  \n",
            " 5   show_time     142524 non-null  int64  \n",
            " 6   occu_perc     142399 non-null  float64\n",
            " 7   ticket_price  142524 non-null  float64\n",
            " 8   ticket_use    142524 non-null  int64  \n",
            " 9   capacity      142399 non-null  float64\n",
            " 10  date          142524 non-null  object \n",
            " 11  month         142524 non-null  int64  \n",
            " 12  quarter       142524 non-null  int64  \n",
            " 13  day           142524 non-null  int64  \n",
            "dtypes: float64(3), int64(10), object(1)\n",
            "memory usage: 15.2+ MB\n"
          ]
        }
      ]
    },
    {
      "cell_type": "code",
      "source": [
        "df.columns"
      ],
      "metadata": {
        "colab": {
          "base_uri": "https://localhost:8080/"
        },
        "id": "xuspjqDAEql6",
        "outputId": "446c8428-79c2-456c-8fb1-96249b1dfe7d"
      },
      "execution_count": 43,
      "outputs": [
        {
          "output_type": "execute_result",
          "data": {
            "text/plain": [
              "Index(['film_code', 'cinema_code', 'total_sales', 'tickets_sold',\n",
              "       'tickets_out', 'show_time', 'occu_perc', 'ticket_price', 'ticket_use',\n",
              "       'capacity', 'date', 'month', 'quarter', 'day'],\n",
              "      dtype='object')"
            ]
          },
          "metadata": {},
          "execution_count": 43
        }
      ]
    },
    {
      "cell_type": "markdown",
      "source": [
        "CHECK FOR NULL VALUES "
      ],
      "metadata": {
        "id": "VmM3IobVZ0Vl"
      }
    },
    {
      "cell_type": "code",
      "source": [
        "df.isnull().any()"
      ],
      "metadata": {
        "id": "qKSBaFoEIdSw",
        "colab": {
          "base_uri": "https://localhost:8080/"
        },
        "outputId": "a243fa3e-db32-49a6-da78-d05b42a6f0e0"
      },
      "execution_count": 44,
      "outputs": [
        {
          "output_type": "execute_result",
          "data": {
            "text/plain": [
              "film_code       False\n",
              "cinema_code     False\n",
              "total_sales     False\n",
              "tickets_sold    False\n",
              "tickets_out     False\n",
              "show_time       False\n",
              "occu_perc        True\n",
              "ticket_price    False\n",
              "ticket_use      False\n",
              "capacity         True\n",
              "date            False\n",
              "month           False\n",
              "quarter         False\n",
              "day             False\n",
              "dtype: bool"
            ]
          },
          "metadata": {},
          "execution_count": 44
        }
      ]
    },
    {
      "cell_type": "code",
      "source": [
        "df.isnull().sum()"
      ],
      "metadata": {
        "colab": {
          "base_uri": "https://localhost:8080/"
        },
        "id": "ofrHX5xQT_8E",
        "outputId": "005427f1-ecdc-4f35-f8c8-65a9f91e76f0"
      },
      "execution_count": 45,
      "outputs": [
        {
          "output_type": "execute_result",
          "data": {
            "text/plain": [
              "film_code         0\n",
              "cinema_code       0\n",
              "total_sales       0\n",
              "tickets_sold      0\n",
              "tickets_out       0\n",
              "show_time         0\n",
              "occu_perc       125\n",
              "ticket_price      0\n",
              "ticket_use        0\n",
              "capacity        125\n",
              "date              0\n",
              "month             0\n",
              "quarter           0\n",
              "day               0\n",
              "dtype: int64"
            ]
          },
          "metadata": {},
          "execution_count": 45
        }
      ]
    },
    {
      "cell_type": "markdown",
      "source": [
        "DROP NULL VALUES"
      ],
      "metadata": {
        "id": "PD_cb9IaZ9YN"
      }
    },
    {
      "cell_type": "code",
      "source": [
        "df.replace([np.inf, -np.inf], np.nan, inplace=True)\n",
        "df.fillna(999, inplace=True)"
      ],
      "metadata": {
        "id": "JVPP5_NaUqpd"
      },
      "execution_count": 46,
      "outputs": []
    },
    {
      "cell_type": "code",
      "source": [
        "df.head()"
      ],
      "metadata": {
        "colab": {
          "base_uri": "https://localhost:8080/",
          "height": 206
        },
        "id": "Vx8m2KeMP0jz",
        "outputId": "48313858-39e8-4a9f-9e5e-5c5730621044"
      },
      "execution_count": 47,
      "outputs": [
        {
          "output_type": "execute_result",
          "data": {
            "text/html": [
              "\n",
              "  <div id=\"df-4f6f9b24-5d95-4a15-826f-37ad4fc4aeac\">\n",
              "    <div class=\"colab-df-container\">\n",
              "      <div>\n",
              "<style scoped>\n",
              "    .dataframe tbody tr th:only-of-type {\n",
              "        vertical-align: middle;\n",
              "    }\n",
              "\n",
              "    .dataframe tbody tr th {\n",
              "        vertical-align: top;\n",
              "    }\n",
              "\n",
              "    .dataframe thead th {\n",
              "        text-align: right;\n",
              "    }\n",
              "</style>\n",
              "<table border=\"1\" class=\"dataframe\">\n",
              "  <thead>\n",
              "    <tr style=\"text-align: right;\">\n",
              "      <th></th>\n",
              "      <th>film_code</th>\n",
              "      <th>cinema_code</th>\n",
              "      <th>total_sales</th>\n",
              "      <th>tickets_sold</th>\n",
              "      <th>tickets_out</th>\n",
              "      <th>show_time</th>\n",
              "      <th>occu_perc</th>\n",
              "      <th>ticket_price</th>\n",
              "      <th>ticket_use</th>\n",
              "      <th>capacity</th>\n",
              "      <th>date</th>\n",
              "      <th>month</th>\n",
              "      <th>quarter</th>\n",
              "      <th>day</th>\n",
              "    </tr>\n",
              "  </thead>\n",
              "  <tbody>\n",
              "    <tr>\n",
              "      <th>0</th>\n",
              "      <td>1492</td>\n",
              "      <td>304</td>\n",
              "      <td>3900000</td>\n",
              "      <td>26</td>\n",
              "      <td>0</td>\n",
              "      <td>4</td>\n",
              "      <td>4.26</td>\n",
              "      <td>150000.0</td>\n",
              "      <td>26</td>\n",
              "      <td>610.328638</td>\n",
              "      <td>2018-05-05</td>\n",
              "      <td>5</td>\n",
              "      <td>2</td>\n",
              "      <td>5</td>\n",
              "    </tr>\n",
              "    <tr>\n",
              "      <th>1</th>\n",
              "      <td>1492</td>\n",
              "      <td>352</td>\n",
              "      <td>3360000</td>\n",
              "      <td>42</td>\n",
              "      <td>0</td>\n",
              "      <td>5</td>\n",
              "      <td>8.08</td>\n",
              "      <td>80000.0</td>\n",
              "      <td>42</td>\n",
              "      <td>519.801980</td>\n",
              "      <td>2018-05-05</td>\n",
              "      <td>5</td>\n",
              "      <td>2</td>\n",
              "      <td>5</td>\n",
              "    </tr>\n",
              "    <tr>\n",
              "      <th>2</th>\n",
              "      <td>1492</td>\n",
              "      <td>489</td>\n",
              "      <td>2560000</td>\n",
              "      <td>32</td>\n",
              "      <td>0</td>\n",
              "      <td>4</td>\n",
              "      <td>20.00</td>\n",
              "      <td>80000.0</td>\n",
              "      <td>32</td>\n",
              "      <td>160.000000</td>\n",
              "      <td>2018-05-05</td>\n",
              "      <td>5</td>\n",
              "      <td>2</td>\n",
              "      <td>5</td>\n",
              "    </tr>\n",
              "    <tr>\n",
              "      <th>3</th>\n",
              "      <td>1492</td>\n",
              "      <td>429</td>\n",
              "      <td>1200000</td>\n",
              "      <td>12</td>\n",
              "      <td>0</td>\n",
              "      <td>1</td>\n",
              "      <td>11.01</td>\n",
              "      <td>100000.0</td>\n",
              "      <td>12</td>\n",
              "      <td>108.991826</td>\n",
              "      <td>2018-05-05</td>\n",
              "      <td>5</td>\n",
              "      <td>2</td>\n",
              "      <td>5</td>\n",
              "    </tr>\n",
              "    <tr>\n",
              "      <th>4</th>\n",
              "      <td>1492</td>\n",
              "      <td>524</td>\n",
              "      <td>1200000</td>\n",
              "      <td>15</td>\n",
              "      <td>0</td>\n",
              "      <td>3</td>\n",
              "      <td>16.67</td>\n",
              "      <td>80000.0</td>\n",
              "      <td>15</td>\n",
              "      <td>89.982004</td>\n",
              "      <td>2018-05-05</td>\n",
              "      <td>5</td>\n",
              "      <td>2</td>\n",
              "      <td>5</td>\n",
              "    </tr>\n",
              "  </tbody>\n",
              "</table>\n",
              "</div>\n",
              "      <button class=\"colab-df-convert\" onclick=\"convertToInteractive('df-4f6f9b24-5d95-4a15-826f-37ad4fc4aeac')\"\n",
              "              title=\"Convert this dataframe to an interactive table.\"\n",
              "              style=\"display:none;\">\n",
              "        \n",
              "  <svg xmlns=\"http://www.w3.org/2000/svg\" height=\"24px\"viewBox=\"0 0 24 24\"\n",
              "       width=\"24px\">\n",
              "    <path d=\"M0 0h24v24H0V0z\" fill=\"none\"/>\n",
              "    <path d=\"M18.56 5.44l.94 2.06.94-2.06 2.06-.94-2.06-.94-.94-2.06-.94 2.06-2.06.94zm-11 1L8.5 8.5l.94-2.06 2.06-.94-2.06-.94L8.5 2.5l-.94 2.06-2.06.94zm10 10l.94 2.06.94-2.06 2.06-.94-2.06-.94-.94-2.06-.94 2.06-2.06.94z\"/><path d=\"M17.41 7.96l-1.37-1.37c-.4-.4-.92-.59-1.43-.59-.52 0-1.04.2-1.43.59L10.3 9.45l-7.72 7.72c-.78.78-.78 2.05 0 2.83L4 21.41c.39.39.9.59 1.41.59.51 0 1.02-.2 1.41-.59l7.78-7.78 2.81-2.81c.8-.78.8-2.07 0-2.86zM5.41 20L4 18.59l7.72-7.72 1.47 1.35L5.41 20z\"/>\n",
              "  </svg>\n",
              "      </button>\n",
              "      \n",
              "  <style>\n",
              "    .colab-df-container {\n",
              "      display:flex;\n",
              "      flex-wrap:wrap;\n",
              "      gap: 12px;\n",
              "    }\n",
              "\n",
              "    .colab-df-convert {\n",
              "      background-color: #E8F0FE;\n",
              "      border: none;\n",
              "      border-radius: 50%;\n",
              "      cursor: pointer;\n",
              "      display: none;\n",
              "      fill: #1967D2;\n",
              "      height: 32px;\n",
              "      padding: 0 0 0 0;\n",
              "      width: 32px;\n",
              "    }\n",
              "\n",
              "    .colab-df-convert:hover {\n",
              "      background-color: #E2EBFA;\n",
              "      box-shadow: 0px 1px 2px rgba(60, 64, 67, 0.3), 0px 1px 3px 1px rgba(60, 64, 67, 0.15);\n",
              "      fill: #174EA6;\n",
              "    }\n",
              "\n",
              "    [theme=dark] .colab-df-convert {\n",
              "      background-color: #3B4455;\n",
              "      fill: #D2E3FC;\n",
              "    }\n",
              "\n",
              "    [theme=dark] .colab-df-convert:hover {\n",
              "      background-color: #434B5C;\n",
              "      box-shadow: 0px 1px 3px 1px rgba(0, 0, 0, 0.15);\n",
              "      filter: drop-shadow(0px 1px 2px rgba(0, 0, 0, 0.3));\n",
              "      fill: #FFFFFF;\n",
              "    }\n",
              "  </style>\n",
              "\n",
              "      <script>\n",
              "        const buttonEl =\n",
              "          document.querySelector('#df-4f6f9b24-5d95-4a15-826f-37ad4fc4aeac button.colab-df-convert');\n",
              "        buttonEl.style.display =\n",
              "          google.colab.kernel.accessAllowed ? 'block' : 'none';\n",
              "\n",
              "        async function convertToInteractive(key) {\n",
              "          const element = document.querySelector('#df-4f6f9b24-5d95-4a15-826f-37ad4fc4aeac');\n",
              "          const dataTable =\n",
              "            await google.colab.kernel.invokeFunction('convertToInteractive',\n",
              "                                                     [key], {});\n",
              "          if (!dataTable) return;\n",
              "\n",
              "          const docLinkHtml = 'Like what you see? Visit the ' +\n",
              "            '<a target=\"_blank\" href=https://colab.research.google.com/notebooks/data_table.ipynb>data table notebook</a>'\n",
              "            + ' to learn more about interactive tables.';\n",
              "          element.innerHTML = '';\n",
              "          dataTable['output_type'] = 'display_data';\n",
              "          await google.colab.output.renderOutput(dataTable, element);\n",
              "          const docLink = document.createElement('div');\n",
              "          docLink.innerHTML = docLinkHtml;\n",
              "          element.appendChild(docLink);\n",
              "        }\n",
              "      </script>\n",
              "    </div>\n",
              "  </div>\n",
              "  "
            ],
            "text/plain": [
              "   film_code  cinema_code  total_sales  ...  month  quarter  day\n",
              "0       1492          304      3900000  ...      5        2    5\n",
              "1       1492          352      3360000  ...      5        2    5\n",
              "2       1492          489      2560000  ...      5        2    5\n",
              "3       1492          429      1200000  ...      5        2    5\n",
              "4       1492          524      1200000  ...      5        2    5\n",
              "\n",
              "[5 rows x 14 columns]"
            ]
          },
          "metadata": {},
          "execution_count": 47
        }
      ]
    },
    {
      "cell_type": "code",
      "source": [
        "#Check the Dataset after drop duplicated rows, null value and unnecessary columns\n",
        "df.info()"
      ],
      "metadata": {
        "id": "8bvgl61KU0w6",
        "colab": {
          "base_uri": "https://localhost:8080/"
        },
        "outputId": "d7ad80ef-80fa-4bae-c090-780c5655ca55"
      },
      "execution_count": 48,
      "outputs": [
        {
          "output_type": "stream",
          "name": "stdout",
          "text": [
            "<class 'pandas.core.frame.DataFrame'>\n",
            "RangeIndex: 142524 entries, 0 to 142523\n",
            "Data columns (total 14 columns):\n",
            " #   Column        Non-Null Count   Dtype  \n",
            "---  ------        --------------   -----  \n",
            " 0   film_code     142524 non-null  int64  \n",
            " 1   cinema_code   142524 non-null  int64  \n",
            " 2   total_sales   142524 non-null  int64  \n",
            " 3   tickets_sold  142524 non-null  int64  \n",
            " 4   tickets_out   142524 non-null  int64  \n",
            " 5   show_time     142524 non-null  int64  \n",
            " 6   occu_perc     142524 non-null  float64\n",
            " 7   ticket_price  142524 non-null  float64\n",
            " 8   ticket_use    142524 non-null  int64  \n",
            " 9   capacity      142524 non-null  float64\n",
            " 10  date          142524 non-null  object \n",
            " 11  month         142524 non-null  int64  \n",
            " 12  quarter       142524 non-null  int64  \n",
            " 13  day           142524 non-null  int64  \n",
            "dtypes: float64(3), int64(10), object(1)\n",
            "memory usage: 15.2+ MB\n"
          ]
        }
      ]
    },
    {
      "cell_type": "markdown",
      "source": [
        "## **Data Visualization**"
      ],
      "metadata": {
        "id": "tK4Yezo3au4G"
      }
    },
    {
      "cell_type": "code",
      "source": [
        "import matplotlib.pyplot as plt\n",
        "import seaborn as sns"
      ],
      "metadata": {
        "id": "0Ba4TD8caSbN"
      },
      "execution_count": 49,
      "outputs": []
    },
    {
      "cell_type": "code",
      "source": [
        "df['date'] = pd.to_datetime(df.date)\n",
        "df['month']= df.date.dt.month\n",
        "df['week']=df.date.dt.isocalendar().week\n",
        "df['day']=df.date.dt.day\n",
        "df['quarter']=df.date.dt.quarter\n",
        "df['weekDay'] =df.date.dt.weekday"
      ],
      "metadata": {
        "id": "971cqc5NMYFh"
      },
      "execution_count": 50,
      "outputs": []
    },
    {
      "cell_type": "markdown",
      "source": [
        "TOTAL SALES"
      ],
      "metadata": {
        "id": "hnzbpzV-PrMM"
      }
    },
    {
      "cell_type": "code",
      "source": [
        "plt.style.use('fivethirtyeight')\n",
        "df.groupby('film_code')['total_sales'].sum().plot(figsize=(18, 4), color='grey')"
      ],
      "metadata": {
        "colab": {
          "base_uri": "https://localhost:8080/",
          "height": 329
        },
        "id": "G3BJ_I1QQBhK",
        "outputId": "e3d8f32d-70b9-48ae-fd32-5a67844aea53"
      },
      "execution_count": 51,
      "outputs": [
        {
          "output_type": "execute_result",
          "data": {
            "text/plain": [
              "<matplotlib.axes._subplots.AxesSubplot at 0x7f2305d27950>"
            ]
          },
          "metadata": {},
          "execution_count": 51
        },
        {
          "output_type": "display_data",
          "data": {
            "image/png": "[encoded data removed]",
            "text/plain": [
              "<Figure size 1296x288 with 1 Axes>"
            ]
          },
          "metadata": {}
        }
      ]
    },
    {
      "cell_type": "code",
      "source": [
        "df.ticket_price.describe()"
      ],
      "metadata": {
        "colab": {
          "base_uri": "https://localhost:8080/"
        },
        "id": "9MRr--dQQcq7",
        "outputId": "94ebe1fa-7ce0-42e5-ea73-76b1f93dcd00"
      },
      "execution_count": 52,
      "outputs": [
        {
          "output_type": "execute_result",
          "data": {
            "text/plain": [
              "count    142524.000000\n",
              "mean      81234.599886\n",
              "std       33236.599278\n",
              "min         483.870968\n",
              "25%       60000.000000\n",
              "50%       79454.235185\n",
              "75%      100000.000000\n",
              "max      700000.000000\n",
              "Name: ticket_price, dtype: float64"
            ]
          },
          "metadata": {},
          "execution_count": 52
        }
      ]
    },
    {
      "cell_type": "code",
      "source": [
        "sns.set()\n",
        "plt.style.use('ggplot')\n",
        "plt.figure(figsize=(10, 8))\n",
        "pd.plotting.autocorrelation_plot(df['ticket_price']) "
      ],
      "metadata": {
        "colab": {
          "base_uri": "https://localhost:8080/",
          "height": 556
        },
        "id": "uAwYmtLNQ0o6",
        "outputId": "d9aed558-d126-4097-b4ef-39bcd056d7c5"
      },
      "execution_count": 53,
      "outputs": [
        {
          "output_type": "execute_result",
          "data": {
            "text/plain": [
              "<matplotlib.axes._subplots.AxesSubplot at 0x7f2305dc32d0>"
            ]
          },
          "metadata": {},
          "execution_count": 53
        },
        {
          "output_type": "display_data",
          "data": {
            "image/png": "[encoded data removed]",
            "text/plain": [
              "<Figure size 720x576 with 1 Axes>"
            ]
          },
          "metadata": {}
        }
      ]
    },
    {
      "cell_type": "code",
      "source": [
        "plt.figure(figsize=(20,10))\n",
        "sns.heatmap(df.corr(),annot=True ,linewidths = 2,linecolor = \"white\")\n",
        "plt.show()"
      ],
      "metadata": {
        "colab": {
          "base_uri": "https://localhost:8080/",
          "height": 639
        },
        "id": "tJbgb-CNMUw0",
        "outputId": "8f35fceb-a54f-4375-e6bf-4097693d1f6d"
      },
      "execution_count": 54,
      "outputs": [
        {
          "output_type": "display_data",
          "data": {
            "image/png": "[encoded data removed]",
            "text/plain": [
              "<Figure size 1440x720 with 2 Axes>"
            ]
          },
          "metadata": {}
        }
      ]
    },
    {
      "cell_type": "code",
      "source": [
        "df.corr()"
      ],
      "metadata": {
        "colab": {
          "base_uri": "https://localhost:8080/",
          "height": 584
        },
        "id": "O6coESdtUp7k",
        "outputId": "58fcc870-e082-4795-898b-97a37c6d7fe3"
      },
      "execution_count": 55,
      "outputs": [
        {
          "output_type": "execute_result",
          "data": {
            "text/html": [
              "\n",
              "  <div id=\"df-9ba3a8f5-29b6-4175-90c5-d8f88b6a5668\">\n",
              "    <div class=\"colab-df-container\">\n",
              "      <div>\n",
              "<style scoped>\n",
              "    .dataframe tbody tr th:only-of-type {\n",
              "        vertical-align: middle;\n",
              "    }\n",
              "\n",
              "    .dataframe tbody tr th {\n",
              "        vertical-align: top;\n",
              "    }\n",
              "\n",
              "    .dataframe thead th {\n",
              "        text-align: right;\n",
              "    }\n",
              "</style>\n",
              "<table border=\"1\" class=\"dataframe\">\n",
              "  <thead>\n",
              "    <tr style=\"text-align: right;\">\n",
              "      <th></th>\n",
              "      <th>film_code</th>\n",
              "      <th>cinema_code</th>\n",
              "      <th>total_sales</th>\n",
              "      <th>tickets_sold</th>\n",
              "      <th>tickets_out</th>\n",
              "      <th>show_time</th>\n",
              "      <th>occu_perc</th>\n",
              "      <th>ticket_price</th>\n",
              "      <th>ticket_use</th>\n",
              "      <th>capacity</th>\n",
              "      <th>month</th>\n",
              "      <th>quarter</th>\n",
              "      <th>day</th>\n",
              "      <th>week</th>\n",
              "      <th>weekDay</th>\n",
              "    </tr>\n",
              "  </thead>\n",
              "  <tbody>\n",
              "    <tr>\n",
              "      <th>film_code</th>\n",
              "      <td>1.000000</td>\n",
              "      <td>0.029530</td>\n",
              "      <td>0.009802</td>\n",
              "      <td>-0.005588</td>\n",
              "      <td>-0.000920</td>\n",
              "      <td>0.076670</td>\n",
              "      <td>-0.067153</td>\n",
              "      <td>0.104820</td>\n",
              "      <td>-0.005582</td>\n",
              "      <td>0.061178</td>\n",
              "      <td>0.851380</td>\n",
              "      <td>0.800933</td>\n",
              "      <td>-0.028686</td>\n",
              "      <td>0.858211</td>\n",
              "      <td>0.001211</td>\n",
              "    </tr>\n",
              "    <tr>\n",
              "      <th>cinema_code</th>\n",
              "      <td>0.029530</td>\n",
              "      <td>1.000000</td>\n",
              "      <td>-0.012910</td>\n",
              "      <td>-0.053716</td>\n",
              "      <td>0.019534</td>\n",
              "      <td>-0.187125</td>\n",
              "      <td>0.078244</td>\n",
              "      <td>0.005079</td>\n",
              "      <td>-0.053957</td>\n",
              "      <td>-0.353127</td>\n",
              "      <td>0.051027</td>\n",
              "      <td>0.049646</td>\n",
              "      <td>-0.000270</td>\n",
              "      <td>0.051623</td>\n",
              "      <td>-0.001010</td>\n",
              "    </tr>\n",
              "    <tr>\n",
              "      <th>total_sales</th>\n",
              "      <td>0.009802</td>\n",
              "      <td>-0.012910</td>\n",
              "      <td>1.000000</td>\n",
              "      <td>0.915176</td>\n",
              "      <td>0.066810</td>\n",
              "      <td>0.509812</td>\n",
              "      <td>0.254471</td>\n",
              "      <td>0.272450</td>\n",
              "      <td>0.915112</td>\n",
              "      <td>0.375715</td>\n",
              "      <td>-0.080568</td>\n",
              "      <td>-0.051433</td>\n",
              "      <td>-0.000424</td>\n",
              "      <td>-0.081323</td>\n",
              "      <td>-0.012581</td>\n",
              "    </tr>\n",
              "    <tr>\n",
              "      <th>tickets_sold</th>\n",
              "      <td>-0.005588</td>\n",
              "      <td>-0.053716</td>\n",
              "      <td>0.915176</td>\n",
              "      <td>1.000000</td>\n",
              "      <td>0.071498</td>\n",
              "      <td>0.522088</td>\n",
              "      <td>0.300019</td>\n",
              "      <td>0.103596</td>\n",
              "      <td>0.999946</td>\n",
              "      <td>0.425181</td>\n",
              "      <td>-0.103477</td>\n",
              "      <td>-0.062666</td>\n",
              "      <td>-0.005037</td>\n",
              "      <td>-0.103308</td>\n",
              "      <td>-0.074746</td>\n",
              "    </tr>\n",
              "    <tr>\n",
              "      <th>tickets_out</th>\n",
              "      <td>-0.000920</td>\n",
              "      <td>0.019534</td>\n",
              "      <td>0.066810</td>\n",
              "      <td>0.071498</td>\n",
              "      <td>1.000000</td>\n",
              "      <td>0.078860</td>\n",
              "      <td>0.027550</td>\n",
              "      <td>0.011916</td>\n",
              "      <td>0.061091</td>\n",
              "      <td>0.037596</td>\n",
              "      <td>-0.012448</td>\n",
              "      <td>-0.007210</td>\n",
              "      <td>0.004441</td>\n",
              "      <td>-0.011693</td>\n",
              "      <td>-0.010408</td>\n",
              "    </tr>\n",
              "    <tr>\n",
              "      <th>show_time</th>\n",
              "      <td>0.076670</td>\n",
              "      <td>-0.187125</td>\n",
              "      <td>0.509812</td>\n",
              "      <td>0.522088</td>\n",
              "      <td>0.078860</td>\n",
              "      <td>1.000000</td>\n",
              "      <td>0.018741</td>\n",
              "      <td>0.176274</td>\n",
              "      <td>0.521625</td>\n",
              "      <td>0.681379</td>\n",
              "      <td>-0.023297</td>\n",
              "      <td>-0.020643</td>\n",
              "      <td>0.007646</td>\n",
              "      <td>-0.022417</td>\n",
              "      <td>-0.001857</td>\n",
              "    </tr>\n",
              "    <tr>\n",
              "      <th>occu_perc</th>\n",
              "      <td>-0.067153</td>\n",
              "      <td>0.078244</td>\n",
              "      <td>0.254471</td>\n",
              "      <td>0.300019</td>\n",
              "      <td>0.027550</td>\n",
              "      <td>0.018741</td>\n",
              "      <td>1.000000</td>\n",
              "      <td>0.045034</td>\n",
              "      <td>0.299939</td>\n",
              "      <td>-0.083438</td>\n",
              "      <td>-0.093695</td>\n",
              "      <td>-0.059355</td>\n",
              "      <td>-0.005723</td>\n",
              "      <td>-0.093477</td>\n",
              "      <td>-0.073812</td>\n",
              "    </tr>\n",
              "    <tr>\n",
              "      <th>ticket_price</th>\n",
              "      <td>0.104820</td>\n",
              "      <td>0.005079</td>\n",
              "      <td>0.272450</td>\n",
              "      <td>0.103596</td>\n",
              "      <td>0.011916</td>\n",
              "      <td>0.176274</td>\n",
              "      <td>0.045034</td>\n",
              "      <td>1.000000</td>\n",
              "      <td>0.103544</td>\n",
              "      <td>0.004245</td>\n",
              "      <td>0.048007</td>\n",
              "      <td>0.042031</td>\n",
              "      <td>0.001113</td>\n",
              "      <td>0.044940</td>\n",
              "      <td>0.132529</td>\n",
              "    </tr>\n",
              "    <tr>\n",
              "      <th>ticket_use</th>\n",
              "      <td>-0.005582</td>\n",
              "      <td>-0.053957</td>\n",
              "      <td>0.915112</td>\n",
              "      <td>0.999946</td>\n",
              "      <td>0.061091</td>\n",
              "      <td>0.521625</td>\n",
              "      <td>0.299939</td>\n",
              "      <td>0.103544</td>\n",
              "      <td>1.000000</td>\n",
              "      <td>0.425082</td>\n",
              "      <td>-0.103418</td>\n",
              "      <td>-0.062634</td>\n",
              "      <td>-0.005087</td>\n",
              "      <td>-0.103258</td>\n",
              "      <td>-0.074689</td>\n",
              "    </tr>\n",
              "    <tr>\n",
              "      <th>capacity</th>\n",
              "      <td>0.061178</td>\n",
              "      <td>-0.353127</td>\n",
              "      <td>0.375715</td>\n",
              "      <td>0.425181</td>\n",
              "      <td>0.037596</td>\n",
              "      <td>0.681379</td>\n",
              "      <td>-0.083438</td>\n",
              "      <td>0.004245</td>\n",
              "      <td>0.425082</td>\n",
              "      <td>1.000000</td>\n",
              "      <td>-0.025269</td>\n",
              "      <td>-0.023948</td>\n",
              "      <td>0.006258</td>\n",
              "      <td>-0.024621</td>\n",
              "      <td>-0.001150</td>\n",
              "    </tr>\n",
              "    <tr>\n",
              "      <th>month</th>\n",
              "      <td>0.851380</td>\n",
              "      <td>0.051027</td>\n",
              "      <td>-0.080568</td>\n",
              "      <td>-0.103477</td>\n",
              "      <td>-0.012448</td>\n",
              "      <td>-0.023297</td>\n",
              "      <td>-0.093695</td>\n",
              "      <td>0.048007</td>\n",
              "      <td>-0.103418</td>\n",
              "      <td>-0.025269</td>\n",
              "      <td>1.000000</td>\n",
              "      <td>0.942237</td>\n",
              "      <td>-0.161290</td>\n",
              "      <td>0.990653</td>\n",
              "      <td>-0.001174</td>\n",
              "    </tr>\n",
              "    <tr>\n",
              "      <th>quarter</th>\n",
              "      <td>0.800933</td>\n",
              "      <td>0.049646</td>\n",
              "      <td>-0.051433</td>\n",
              "      <td>-0.062666</td>\n",
              "      <td>-0.007210</td>\n",
              "      <td>-0.020643</td>\n",
              "      <td>-0.059355</td>\n",
              "      <td>0.042031</td>\n",
              "      <td>-0.062634</td>\n",
              "      <td>-0.023948</td>\n",
              "      <td>0.942237</td>\n",
              "      <td>1.000000</td>\n",
              "      <td>-0.165723</td>\n",
              "      <td>0.931475</td>\n",
              "      <td>-0.017270</td>\n",
              "    </tr>\n",
              "    <tr>\n",
              "      <th>day</th>\n",
              "      <td>-0.028686</td>\n",
              "      <td>-0.000270</td>\n",
              "      <td>-0.000424</td>\n",
              "      <td>-0.005037</td>\n",
              "      <td>0.004441</td>\n",
              "      <td>0.007646</td>\n",
              "      <td>-0.005723</td>\n",
              "      <td>0.001113</td>\n",
              "      <td>-0.005087</td>\n",
              "      <td>0.006258</td>\n",
              "      <td>-0.161290</td>\n",
              "      <td>-0.165723</td>\n",
              "      <td>1.000000</td>\n",
              "      <td>-0.028400</td>\n",
              "      <td>-0.007138</td>\n",
              "    </tr>\n",
              "    <tr>\n",
              "      <th>week</th>\n",
              "      <td>0.858211</td>\n",
              "      <td>0.051623</td>\n",
              "      <td>-0.081323</td>\n",
              "      <td>-0.103308</td>\n",
              "      <td>-0.011693</td>\n",
              "      <td>-0.022417</td>\n",
              "      <td>-0.093477</td>\n",
              "      <td>0.044940</td>\n",
              "      <td>-0.103258</td>\n",
              "      <td>-0.024621</td>\n",
              "      <td>0.990653</td>\n",
              "      <td>0.931475</td>\n",
              "      <td>-0.028400</td>\n",
              "      <td>1.000000</td>\n",
              "      <td>-0.031598</td>\n",
              "    </tr>\n",
              "    <tr>\n",
              "      <th>weekDay</th>\n",
              "      <td>0.001211</td>\n",
              "      <td>-0.001010</td>\n",
              "      <td>-0.012581</td>\n",
              "      <td>-0.074746</td>\n",
              "      <td>-0.010408</td>\n",
              "      <td>-0.001857</td>\n",
              "      <td>-0.073812</td>\n",
              "      <td>0.132529</td>\n",
              "      <td>-0.074689</td>\n",
              "      <td>-0.001150</td>\n",
              "      <td>-0.001174</td>\n",
              "      <td>-0.017270</td>\n",
              "      <td>-0.007138</td>\n",
              "      <td>-0.031598</td>\n",
              "      <td>1.000000</td>\n",
              "    </tr>\n",
              "  </tbody>\n",
              "</table>\n",
              "</div>\n",
              "      <button class=\"colab-df-convert\" onclick=\"convertToInteractive('df-9ba3a8f5-29b6-4175-90c5-d8f88b6a5668')\"\n",
              "              title=\"Convert this dataframe to an interactive table.\"\n",
              "              style=\"display:none;\">\n",
              "        \n",
              "  <svg xmlns=\"http://www.w3.org/2000/svg\" height=\"24px\"viewBox=\"0 0 24 24\"\n",
              "       width=\"24px\">\n",
              "    <path d=\"M0 0h24v24H0V0z\" fill=\"none\"/>\n",
              "    <path d=\"M18.56 5.44l.94 2.06.94-2.06 2.06-.94-2.06-.94-.94-2.06-.94 2.06-2.06.94zm-11 1L8.5 8.5l.94-2.06 2.06-.94-2.06-.94L8.5 2.5l-.94 2.06-2.06.94zm10 10l.94 2.06.94-2.06 2.06-.94-2.06-.94-.94-2.06-.94 2.06-2.06.94z\"/><path d=\"M17.41 7.96l-1.37-1.37c-.4-.4-.92-.59-1.43-.59-.52 0-1.04.2-1.43.59L10.3 9.45l-7.72 7.72c-.78.78-.78 2.05 0 2.83L4 21.41c.39.39.9.59 1.41.59.51 0 1.02-.2 1.41-.59l7.78-7.78 2.81-2.81c.8-.78.8-2.07 0-2.86zM5.41 20L4 18.59l7.72-7.72 1.47 1.35L5.41 20z\"/>\n",
              "  </svg>\n",
              "      </button>\n",
              "      \n",
              "  <style>\n",
              "    .colab-df-container {\n",
              "      display:flex;\n",
              "      flex-wrap:wrap;\n",
              "      gap: 12px;\n",
              "    }\n",
              "\n",
              "    .colab-df-convert {\n",
              "      background-color: #E8F0FE;\n",
              "      border: none;\n",
              "      border-radius: 50%;\n",
              "      cursor: pointer;\n",
              "      display: none;\n",
              "      fill: #1967D2;\n",
              "      height: 32px;\n",
              "      padding: 0 0 0 0;\n",
              "      width: 32px;\n",
              "    }\n",
              "\n",
              "    .colab-df-convert:hover {\n",
              "      background-color: #E2EBFA;\n",
              "      box-shadow: 0px 1px 2px rgba(60, 64, 67, 0.3), 0px 1px 3px 1px rgba(60, 64, 67, 0.15);\n",
              "      fill: #174EA6;\n",
              "    }\n",
              "\n",
              "    [theme=dark] .colab-df-convert {\n",
              "      background-color: #3B4455;\n",
              "      fill: #D2E3FC;\n",
              "    }\n",
              "\n",
              "    [theme=dark] .colab-df-convert:hover {\n",
              "      background-color: #434B5C;\n",
              "      box-shadow: 0px 1px 3px 1px rgba(0, 0, 0, 0.15);\n",
              "      filter: drop-shadow(0px 1px 2px rgba(0, 0, 0, 0.3));\n",
              "      fill: #FFFFFF;\n",
              "    }\n",
              "  </style>\n",
              "\n",
              "      <script>\n",
              "        const buttonEl =\n",
              "          document.querySelector('#df-9ba3a8f5-29b6-4175-90c5-d8f88b6a5668 button.colab-df-convert');\n",
              "        buttonEl.style.display =\n",
              "          google.colab.kernel.accessAllowed ? 'block' : 'none';\n",
              "\n",
              "        async function convertToInteractive(key) {\n",
              "          const element = document.querySelector('#df-9ba3a8f5-29b6-4175-90c5-d8f88b6a5668');\n",
              "          const dataTable =\n",
              "            await google.colab.kernel.invokeFunction('convertToInteractive',\n",
              "                                                     [key], {});\n",
              "          if (!dataTable) return;\n",
              "\n",
              "          const docLinkHtml = 'Like what you see? Visit the ' +\n",
              "            '<a target=\"_blank\" href=https://colab.research.google.com/notebooks/data_table.ipynb>data table notebook</a>'\n",
              "            + ' to learn more about interactive tables.';\n",
              "          element.innerHTML = '';\n",
              "          dataTable['output_type'] = 'display_data';\n",
              "          await google.colab.output.renderOutput(dataTable, element);\n",
              "          const docLink = document.createElement('div');\n",
              "          docLink.innerHTML = docLinkHtml;\n",
              "          element.appendChild(docLink);\n",
              "        }\n",
              "      </script>\n",
              "    </div>\n",
              "  </div>\n",
              "  "
            ],
            "text/plain": [
              "              film_code  cinema_code  total_sales  ...       day      week   weekDay\n",
              "film_code      1.000000     0.029530     0.009802  ... -0.028686  0.858211  0.001211\n",
              "cinema_code    0.029530     1.000000    -0.012910  ... -0.000270  0.051623 -0.001010\n",
              "total_sales    0.009802    -0.012910     1.000000  ... -0.000424 -0.081323 -0.012581\n",
              "tickets_sold  -0.005588    -0.053716     0.915176  ... -0.005037 -0.103308 -0.074746\n",
              "tickets_out   -0.000920     0.019534     0.066810  ...  0.004441 -0.011693 -0.010408\n",
              "show_time      0.076670    -0.187125     0.509812  ...  0.007646 -0.022417 -0.001857\n",
              "occu_perc     -0.067153     0.078244     0.254471  ... -0.005723 -0.093477 -0.073812\n",
              "ticket_price   0.104820     0.005079     0.272450  ...  0.001113  0.044940  0.132529\n",
              "ticket_use    -0.005582    -0.053957     0.915112  ... -0.005087 -0.103258 -0.074689\n",
              "capacity       0.061178    -0.353127     0.375715  ...  0.006258 -0.024621 -0.001150\n",
              "month          0.851380     0.051027    -0.080568  ... -0.161290  0.990653 -0.001174\n",
              "quarter        0.800933     0.049646    -0.051433  ... -0.165723  0.931475 -0.017270\n",
              "day           -0.028686    -0.000270    -0.000424  ...  1.000000 -0.028400 -0.007138\n",
              "week           0.858211     0.051623    -0.081323  ... -0.028400  1.000000 -0.031598\n",
              "weekDay        0.001211    -0.001010    -0.012581  ... -0.007138 -0.031598  1.000000\n",
              "\n",
              "[15 rows x 15 columns]"
            ]
          },
          "metadata": {},
          "execution_count": 55
        }
      ]
    },
    {
      "cell_type": "code",
      "source": [
        "df = df.drop(['cinema_code','tickets_out','occu_perc','date', 'month', 'quarter'],axis=1)"
      ],
      "metadata": {
        "id": "OP0aRyqhiB7D"
      },
      "execution_count": 56,
      "outputs": []
    },
    {
      "cell_type": "code",
      "source": [
        "df['capacity'].astype(np.int64)\n",
        "df['capacity'] = df['capacity'].fillna(0).astype(np.int64)\n",
        "df['day'].astype(np.int64)\n",
        "df['day'] = df['day'].fillna(0).astype(np.int64)\n",
        "df['ticket_price'].astype(np.int64)\n",
        "df['ticket_price'] = df['ticket_price'].fillna(0).astype(np.int64)"
      ],
      "metadata": {
        "id": "8NmJyvyTBA6k"
      },
      "execution_count": 57,
      "outputs": []
    },
    {
      "cell_type": "markdown",
      "source": [
        "Define Target Variable (y) and Feature Variables (x)"
      ],
      "metadata": {
        "id": "wv9SoyNVReXz"
      }
    },
    {
      "cell_type": "code",
      "source": [
        "X = df[['total_sales','show_time','film_code','ticket_use','tickets_sold']]\n"
      ],
      "metadata": {
        "id": "t1tXVTquPkeP"
      },
      "execution_count": 58,
      "outputs": []
    },
    {
      "cell_type": "code",
      "source": [
        "X.shape"
      ],
      "metadata": {
        "colab": {
          "base_uri": "https://localhost:8080/"
        },
        "id": "DSg8TbPIWCTN",
        "outputId": "78331c38-494a-4fba-b0bd-b5102afedaa2"
      },
      "execution_count": 59,
      "outputs": [
        {
          "output_type": "execute_result",
          "data": {
            "text/plain": [
              "(142524, 5)"
            ]
          },
          "metadata": {},
          "execution_count": 59
        }
      ]
    },
    {
      "cell_type": "code",
      "source": [
        "y = df['ticket_price']\n",
        "\n"
      ],
      "metadata": {
        "id": "oFaA8tdeWFNZ"
      },
      "execution_count": 60,
      "outputs": []
    },
    {
      "cell_type": "code",
      "source": [
        "y.shape"
      ],
      "metadata": {
        "colab": {
          "base_uri": "https://localhost:8080/"
        },
        "id": "aNQ1Th2IWKxs",
        "outputId": "ea8c1aab-32cf-40c4-c416-f4c09164d99e"
      },
      "execution_count": 61,
      "outputs": [
        {
          "output_type": "execute_result",
          "data": {
            "text/plain": [
              "(142524,)"
            ]
          },
          "metadata": {},
          "execution_count": 61
        }
      ]
    },
    {
      "cell_type": "markdown",
      "source": [
        "## **Train Test Split**"
      ],
      "metadata": {
        "id": "BEYXsleXWPGe"
      }
    },
    {
      "cell_type": "code",
      "source": [
        "from sklearn.model_selection import train_test_split\n",
        "\n",
        "X_train, X_test, y_train, y_test = train_test_split( X, y, train_size = 0.3, random_state=0)"
      ],
      "metadata": {
        "id": "isbK8wLWWMcS"
      },
      "execution_count": 62,
      "outputs": []
    },
    {
      "cell_type": "code",
      "source": [
        "X_train.shape, X_test.shape, y_train.shape, y_test.shape"
      ],
      "metadata": {
        "colab": {
          "base_uri": "https://localhost:8080/"
        },
        "id": "F3lJxFMYWcJd",
        "outputId": "b7a01ade-9f16-4beb-a520-2eeebf80904e"
      },
      "execution_count": 63,
      "outputs": [
        {
          "output_type": "execute_result",
          "data": {
            "text/plain": [
              "((42757, 5), (99767, 5), (42757,), (99767,))"
            ]
          },
          "metadata": {},
          "execution_count": 63
        }
      ]
    },
    {
      "cell_type": "markdown",
      "source": [
        "## **MODEL**"
      ],
      "metadata": {
        "id": "1lpsx2XaWzKb"
      }
    },
    {
      "cell_type": "code",
      "source": [
        "from sklearn.tree import DecisionTreeRegressor\n",
        "from sklearn.metrics import explained_variance_score"
      ],
      "metadata": {
        "id": "6vQFnb7rWyoU"
      },
      "execution_count": 67,
      "outputs": []
    },
    {
      "cell_type": "code",
      "source": [
        "tr_regressor = DecisionTreeRegressor(random_state=0)\n",
        "tr_regressor.fit(X_train,y_train)\n",
        "tr_regressor.score(X_test,y_test)\n",
        "pred_tr = tr_regressor.predict(X_test)\n",
        "decision_score=tr_regressor.score(X_test,y_test)\n",
        "expl_tr = explained_variance_score(pred_tr,y_test)"
      ],
      "metadata": {
        "id": "-hmmejzI4oy3"
      },
      "execution_count": 68,
      "outputs": []
    },
    {
      "cell_type": "markdown",
      "source": [
        "### **Accuracy**"
      ],
      "metadata": {
        "id": "LFdDiPrTjjBz"
      }
    },
    {
      "cell_type": "code",
      "source": [
        "print(\"Decision tree  Regression Model Score is \",round(tr_regressor.score(X_test,y_test)*100))"
      ],
      "metadata": {
        "colab": {
          "base_uri": "https://localhost:8080/"
        },
        "id": "7THj7SFv6CNV",
        "outputId": "21ec0590-5a35-4732-e414-d17a7d2d7f56"
      },
      "execution_count": 69,
      "outputs": [
        {
          "output_type": "stream",
          "name": "stdout",
          "text": [
            "Decision tree  Regression Model Score is  99\n"
          ]
        }
      ]
    },
    {
      "cell_type": "code",
      "source": [
        ""
      ],
      "metadata": {
        "id": "Whvs9K68oVJn"
      },
      "execution_count": null,
      "outputs": []
    }
  ]
}